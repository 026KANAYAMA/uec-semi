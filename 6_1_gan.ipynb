{
 "cells": [
  {
   "cell_type": "code",
   "execution_count": 1,
   "id": "2d90a102",
   "metadata": {},
   "outputs": [
    {
     "data": {
      "text/plain": [
       "device(type='cuda')"
      ]
     },
     "execution_count": 1,
     "metadata": {},
     "output_type": "execute_result"
    }
   ],
   "source": [
    "import os\n",
    "os.environ[\"CUDA_VISIBLE_DEVICES\"] = \"0,1,2,3\"\n",
    "import time\n",
    "import random\n",
    "import glob\n",
    "\n",
    "import numpy as np\n",
    "import matplotlib.pyplot as plt\n",
    "import torch\n",
    "import torch.nn as nn\n",
    "import torch.nn.functional as F\n",
    "import torchvision.datasets as dst\n",
    "from torchvision.io import read_image\n",
    "from torchvision.transforms import v2\n",
    "from torch.utils.data import DataLoader\n",
    "\n",
    "# seed\n",
    "seed = 0\n",
    "np.random.seed(seed)\n",
    "torch.manual_seed(seed)\n",
    "torch.cuda.manual_seed_all(seed)\n",
    "torch.backends.cudnn.deterministic = True\n",
    "torch.backends.cudnn.benchmark = False\n",
    "\n",
    "# device\n",
    "device = torch.device(\"cuda\" if torch.cuda.is_available() else \"cpu\")\n",
    "device"
   ]
  },
  {
   "cell_type": "code",
   "execution_count": 20,
   "id": "06066a06",
   "metadata": {},
   "outputs": [
    {
     "name": "stderr",
     "output_type": "stream",
     "text": [
      "/home/yanai-lab/kanayama-r/.conda/envs/myenv/lib/python3.10/site-packages/torchvision/transforms/v2/_deprecated.py:42: UserWarning: The transform `ToTensor()` is deprecated and will be removed in a future release. Instead, please use `v2.Compose([v2.ToImage(), v2.ToDtype(torch.float32, scale=True)])`.Output is equivalent up to float precision.\n",
      "  warnings.warn(\n"
     ]
    }
   ],
   "source": [
    "# settings\n",
    "batch_size = 128*4 # 512\n",
    "\n",
    "# data\n",
    "dataroot = \"/export/space0/kanayama-r/semi/uec-semi/data/CelebA/Img\"\n",
    "\n",
    "def only_img_celeba(path):\n",
    "    # dirname(path) の basename が \"img_celeba\" だけ通す\n",
    "    return os.path.basename(os.path.dirname(path)) == \"img_celeba\"\n",
    "\n",
    "dataset = dst.ImageFolder(\n",
    "    root=dataroot,\n",
    "    transform=v2.Compose([\n",
    "        v2.CenterCrop(178),\n",
    "        v2.Resize(28),\n",
    "        v2.Grayscale(num_output_channels=1),\n",
    "        v2.ToTensor(),\n",
    "        # v2.Normalize([0.5]*3, [0.5]*3) # [-1,1] に正規化（GANの場合多い）\n",
    "        v2.Normalize([0.5], [0.5])\n",
    "    ]),\n",
    "    is_valid_file=only_img_celeba,\n",
    "    allow_empty=True,  \n",
    ")\n",
    "\n",
    "dataloader = DataLoader(\n",
    "    dataset,\n",
    "    batch_size=batch_size,\n",
    "    shuffle=True,\n",
    "    num_workers=4,\n",
    "    pin_memory=True\n",
    ")"
   ]
  },
  {
   "cell_type": "code",
   "execution_count": 21,
   "id": "f274e263",
   "metadata": {},
   "outputs": [
    {
     "data": {
      "text/plain": [
       "202599"
      ]
     },
     "execution_count": 21,
     "metadata": {},
     "output_type": "execute_result"
    }
   ],
   "source": [
    "len(dataset)"
   ]
  },
  {
   "cell_type": "code",
   "execution_count": 2,
   "id": "a499ebcf",
   "metadata": {},
   "outputs": [],
   "source": [
    "class Generator(nn.Module): # nn.Moduleは継承しなくてもいいけど一応\n",
    "    def __init__(self, z_dim=100, img_dim=28*28):\n",
    "        super().__init__()\n",
    "        self.net = nn.Sequential(\n",
    "            nn.Linear(z_dim, 256),\n",
    "            nn.ReLU(True),\n",
    "            nn.Linear(256, img_dim),\n",
    "            nn.Tanh() # range[-1,1]\n",
    "        )\n",
    "    def forward(self, z):\n",
    "        return self.net(z)\n",
    "\n",
    "class Discriminator(nn.Module):\n",
    "    def __init__(self, img_dim=28*28):\n",
    "        super().__init__()\n",
    "        self.net = nn.Sequential(\n",
    "            nn.Linear(img_dim, 256),\n",
    "            nn.LeakyReLU(0.2, True), # Dが早く飽和して学習しなくなるのを防ぐ\n",
    "            nn.Linear(256, 1),\n",
    "            nn.Sigmoid()\n",
    "        )\n",
    "    def forward(self, x):\n",
    "        return self.net(x)"
   ]
  },
  {
   "cell_type": "code",
   "execution_count": null,
   "id": "ce3e14e0",
   "metadata": {},
   "outputs": [
    {
     "name": "stdout",
     "output_type": "stream",
     "text": [
      "epoch: 1, loss_D: 0.621, loss_G: 1.900\n",
      "epoch: 2, loss_D: 0.475, loss_G: 1.716\n"
     ]
    }
   ],
   "source": [
    "# exp\n",
    "G = nn.DataParallel(Generator()).to(device)\n",
    "D = nn.DataParallel(Discriminator()).to(device)\n",
    "\n",
    "opt_G = torch.optim.Adam(G.parameters(), lr=2e-4)\n",
    "opt_D = torch.optim.Adam(D.parameters(), lr=2e-4)\n",
    "\n",
    "criterion = nn.BCELoss()\n",
    "\n",
    "# ノイズ\n",
    "z = torch.randn(batch_size, 100, device=device)\n",
    "\n",
    "# learning\n",
    "epochs = 100\n",
    "z_dim = 100\n",
    "for epoch in range(epochs):\n",
    "    total_loss_D = 0\n",
    "    total_loss_G = 0\n",
    "    for real_imgs, _ in dataloader:\n",
    "        real = real_imgs.view(real_imgs.size(0), -1).to(device) #[b,img_dim]\n",
    "\n",
    "        # 1.Discriminator更新\n",
    "        D.zero_grad()\n",
    "        real_labels = torch.ones(real.size(0),1, device=device) #本物ラベル\n",
    "        pred_real = D(real)\n",
    "        loss_real = criterion(pred_real, real_labels)\n",
    "\n",
    "        # 偽物生成\n",
    "        z = torch.randn(real.size(0), z_dim, device=device)\n",
    "        fake = G(z).detach()\n",
    "        fake_labels = torch.zeros(real.size(0),1, device=device)\n",
    "        pred_fake = D(fake)\n",
    "        loss_fake = criterion(pred_fake, fake_labels)\n",
    "\n",
    "        loss_D = loss_real + loss_fake\n",
    "        loss_D.backward()\n",
    "        opt_D.step()\n",
    "        total_loss_D += loss_D\n",
    "\n",
    "        # 2.Generator更新\n",
    "        G.zero_grad()\n",
    "        z2 = torch.randn(real.size(0), z_dim, device=device)\n",
    "        fake2 = G(z2)\n",
    "        pred2 = D(fake2)\n",
    "        loss_G = criterion(pred2, torch.ones_like(pred2))\n",
    "        loss_G.backward()\n",
    "        opt_G.step()\n",
    "        total_loss_G += loss_G\n",
    "\n",
    "    avg_loss_D = total_loss_D / len(dataloader)\n",
    "    avg_loss_G = total_loss_G / len(dataloader)\n",
    "    print(f\"epoch: {epoch+1}, loss_D: {avg_loss_D:.3f}, loss_G: {avg_loss_G:.3f}\")"
   ]
  },
  {
   "cell_type": "code",
   "execution_count": null,
   "id": "b0940c39",
   "metadata": {},
   "outputs": [],
   "source": [
    "# 検証\n",
    "G.eval()"
   ]
  },
  {
   "cell_type": "code",
   "execution_count": 19,
   "id": "502f6109",
   "metadata": {},
   "outputs": [
    {
     "name": "stderr",
     "output_type": "stream",
     "text": [
      "/tmp/ipykernel_1161876/3898387827.py:3: FutureWarning: You are using `torch.load` with `weights_only=False` (the current default value), which uses the default pickle module implicitly. It is possible to construct malicious pickle data which will execute arbitrary code during unpickling (See https://github.com/pytorch/pytorch/blob/main/SECURITY.md#untrusted-models for more details). In a future release, the default value for `weights_only` will be flipped to `True`. This limits the functions that could be executed during unpickling. Arbitrary objects will no longer be allowed to be loaded via this mode unless they are explicitly allowlisted by the user via `torch.serialization.add_safe_globals`. We recommend you start setting `weights_only=True` for any use case where you don't have full control of the loaded file. Please open an issue on GitHub for any issues related to this experimental feature.\n",
      "  G.load_state_dict(torch.load(\"6_1_gan.pth\", map_location=device))\n"
     ]
    },
    {
     "data": {
      "image/png": "[encoded data removed]",
      "text/plain": [
       "<Figure size 640x480 with 1 Axes>"
      ]
     },
     "metadata": {},
     "output_type": "display_data"
    }
   ],
   "source": [
    "# 読み込み\n",
    "G = Generator(z_dim=100, img_dim=28*28).to(device)\n",
    "G.load_state_dict(torch.load(\"6_1_gan.pth\", map_location=device))\n",
    "G = nn.DataParallel(G)\n",
    "\n",
    "# 検証\n",
    "G.eval()\n",
    "with torch.no_grad():\n",
    "    z = torch.randn(1, 100, device=device)\n",
    "    fake_imgs = G(z)                # → Tensor [16, img_dim]\n",
    "    fake_imgs = fake_imgs.view(1, 1, 28, 28)\n",
    "    fake_imgs = fake_imgs[0,0].cpu().numpy()\n",
    "\n",
    "# 可視化\n",
    "plt.imshow(fake_imgs, cmap='gray')\n",
    "plt.axis('off')\n",
    "plt.show()"
   ]
  },
  {
   "cell_type": "code",
   "execution_count": null,
   "id": "efbfef8c",
   "metadata": {},
   "outputs": [],
   "source": []
  }
 ],
 "metadata": {
  "kernelspec": {
   "display_name": "myenv",
   "language": "python",
   "name": "python3"
  },
  "language_info": {
   "codemirror_mode": {
    "name": "ipython",
    "version": 3
   },
   "file_extension": ".py",
   "mimetype": "text/x-python",
   "name": "python",
   "nbconvert_exporter": "python",
   "pygments_lexer": "ipython3",
   "version": "3.10.16"
  }
 },
 "nbformat": 4,
 "nbformat_minor": 5
}
