{
 "cells": [
  {
   "cell_type": "code",
   "execution_count": 2,
   "id": "40368352",
   "metadata": {},
   "outputs": [],
   "source": [
    "import os\n",
    "os.environ[\"CUDA_VISIBLE_DEVICES\"] = \"0,1,2,3\"\n",
    "import time\n",
    "import random\n",
    "import glob\n",
    "from PIL import Image\n",
    "from collections import defaultdict\n",
    "import warnings\n",
    "warnings.filterwarnings('ignore')\n",
    "\n",
    "import numpy as np\n",
    "import matplotlib.pyplot as plt\n",
    "import torch\n",
    "import torch.nn as nn\n",
    "import torch.nn.functional as F\n",
    "import torch.distributed as dist\n",
    "from torch.utils.data import Dataset, DataLoader, DistributedSampler\n",
    "from torch.multiprocessing.spawn import spawn\n",
    "import torchvision.models as models\n",
    "from torchvision.datasets import VOCSegmentation, CIFAR10, MNIST\n",
    "from torchvision.io import read_image\n",
    "from torchvision.transforms import v2"
   ]
  },
  {
   "cell_type": "code",
   "execution_count": 4,
   "id": "0e59d290",
   "metadata": {},
   "outputs": [],
   "source": [
    "class TripletMNIST(Dataset):\n",
    "    def __init__(self, root, train=True, transform=None, download=True):\n",
    "        self.mnist = MNIST(\n",
    "            root=root, \n",
    "            train=train, \n",
    "            transform=transform, \n",
    "            download=download)\n",
    "        # ラベルごとのインデックス一覧を作成\n",
    "        self.label_to_idxs = defaultdict(list)\n",
    "        for idx, (_, label) in enumerate(self.mnist):\n",
    "            self.label_to_idxs[label].append(idx)\n",
    "\n",
    "    def __len__(self):\n",
    "        return len(self.mnist)\n",
    "\n",
    "    def __getitem__(self, index):\n",
    "        img_a, label_a = self.mnist[index]  # anchor\n",
    "        # positive: 同じラベルからランダムに別のインデックスを選択\n",
    "        pos_index = index\n",
    "        while pos_index == index:\n",
    "            pos_index = random.choice(self.label_to_idxs[label_a])\n",
    "        img_p, _ = self.mnist[pos_index]\n",
    "        # negative: ランダムに異なるラベルを選んでからサンプル\n",
    "        neg_label = random.choice([l for l in self.label_to_idxs.keys() if l != label_a])\n",
    "        neg_index = random.choice(self.label_to_idxs[neg_label])\n",
    "        img_n, _ = self.mnist[neg_index]\n",
    "\n",
    "        return (img_a, img_p, img_n), []\n",
    "    \n",
    "# トランスフォーム\n",
    "transform = v2.Compose([\n",
    "    v2.ToTensor(),              # [0,255]→[0.,1.]\n",
    "    v2.Normalize((0.1307,), (0.3081,)),  # MNIST 平均・標準偏差\n",
    "])\n",
    "\n",
    "\n",
    "class EmbeddingNet(nn.Module):\n",
    "    def __init__(self, embedding_dim=32):\n",
    "        super().__init__()\n",
    "        self.conv = nn.Sequential(\n",
    "            nn.Conv2d(1, 32, 5),   # → 32×24×24\n",
    "            nn.ReLU(),\n",
    "            nn.MaxPool2d(2),       # → 32×12×12\n",
    "            nn.Conv2d(32, 64, 5),  # → 64×8×8\n",
    "            nn.ReLU(),\n",
    "            nn.MaxPool2d(2),       # → 64×4×4\n",
    "        )\n",
    "        self.fc = nn.Sequential(\n",
    "            nn.Linear(64*4*4, 256),\n",
    "            nn.ReLU(),\n",
    "            nn.Linear(256, embedding_dim)\n",
    "        )\n",
    "\n",
    "    def forward(self, x):\n",
    "        x = self.conv(x)\n",
    "        x = x.view(x.size(0), -1)\n",
    "        out = self.fc(x)\n",
    "        return F.normalize(out, p=2, dim=1)  # L2 正規化"
   ]
  },
  {
   "cell_type": "code",
   "execution_count": 5,
   "id": "e206b745",
   "metadata": {},
   "outputs": [
    {
     "name": "stdout",
     "output_type": "stream",
     "text": [
      "Downloading http://yann.lecun.com/exdb/mnist/train-images-idx3-ubyte.gz\n",
      "Failed to download (trying next):\n",
      "HTTP Error 403: Forbidden\n",
      "\n",
      "Downloading https://ossci-datasets.s3.amazonaws.com/mnist/train-images-idx3-ubyte.gz\n",
      "Downloading https://ossci-datasets.s3.amazonaws.com/mnist/train-images-idx3-ubyte.gz to ../data/MNIST/raw/train-images-idx3-ubyte.gz\n"
     ]
    },
    {
     "name": "stderr",
     "output_type": "stream",
     "text": [
      "100%|██████████| 9.91M/9.91M [00:01<00:00, 6.87MB/s]\n"
     ]
    },
    {
     "name": "stdout",
     "output_type": "stream",
     "text": [
      "Extracting ../data/MNIST/raw/train-images-idx3-ubyte.gz to ../data/MNIST/raw\n",
      "\n",
      "Downloading http://yann.lecun.com/exdb/mnist/train-labels-idx1-ubyte.gz\n",
      "Failed to download (trying next):\n",
      "HTTP Error 403: Forbidden\n",
      "\n",
      "Downloading https://ossci-datasets.s3.amazonaws.com/mnist/train-labels-idx1-ubyte.gz\n",
      "Downloading https://ossci-datasets.s3.amazonaws.com/mnist/train-labels-idx1-ubyte.gz to ../data/MNIST/raw/train-labels-idx1-ubyte.gz\n"
     ]
    },
    {
     "name": "stderr",
     "output_type": "stream",
     "text": [
      "100%|██████████| 28.9k/28.9k [00:00<00:00, 221kB/s]\n"
     ]
    },
    {
     "name": "stdout",
     "output_type": "stream",
     "text": [
      "Extracting ../data/MNIST/raw/train-labels-idx1-ubyte.gz to ../data/MNIST/raw\n",
      "\n",
      "Downloading http://yann.lecun.com/exdb/mnist/t10k-images-idx3-ubyte.gz\n",
      "Failed to download (trying next):\n",
      "HTTP Error 403: Forbidden\n",
      "\n",
      "Downloading https://ossci-datasets.s3.amazonaws.com/mnist/t10k-images-idx3-ubyte.gz\n",
      "Downloading https://ossci-datasets.s3.amazonaws.com/mnist/t10k-images-idx3-ubyte.gz to ../data/MNIST/raw/t10k-images-idx3-ubyte.gz\n"
     ]
    },
    {
     "name": "stderr",
     "output_type": "stream",
     "text": [
      "100%|██████████| 1.65M/1.65M [00:00<00:00, 1.68MB/s]\n"
     ]
    },
    {
     "name": "stdout",
     "output_type": "stream",
     "text": [
      "Extracting ../data/MNIST/raw/t10k-images-idx3-ubyte.gz to ../data/MNIST/raw\n",
      "\n",
      "Downloading http://yann.lecun.com/exdb/mnist/t10k-labels-idx1-ubyte.gz\n",
      "Failed to download (trying next):\n",
      "HTTP Error 403: Forbidden\n",
      "\n",
      "Downloading https://ossci-datasets.s3.amazonaws.com/mnist/t10k-labels-idx1-ubyte.gz\n",
      "Downloading https://ossci-datasets.s3.amazonaws.com/mnist/t10k-labels-idx1-ubyte.gz to ../data/MNIST/raw/t10k-labels-idx1-ubyte.gz\n"
     ]
    },
    {
     "name": "stderr",
     "output_type": "stream",
     "text": [
      "100%|██████████| 4.54k/4.54k [00:00<00:00, 2.46MB/s]\n"
     ]
    },
    {
     "name": "stdout",
     "output_type": "stream",
     "text": [
      "Extracting ../data/MNIST/raw/t10k-labels-idx1-ubyte.gz to ../data/MNIST/raw\n",
      "\n",
      "Epoch 1/10 - Loss: 0.1292\n",
      "Epoch 2/10 - Loss: 0.0235\n",
      "Epoch 3/10 - Loss: 0.0152\n",
      "Epoch 4/10 - Loss: 0.0100\n",
      "Epoch 5/10 - Loss: 0.0072\n",
      "Epoch 6/10 - Loss: 0.0053\n",
      "Epoch 7/10 - Loss: 0.0048\n",
      "Epoch 8/10 - Loss: 0.0044\n",
      "Epoch 9/10 - Loss: 0.0030\n",
      "Epoch 10/10 - Loss: 0.0029\n"
     ]
    }
   ],
   "source": [
    "# data\n",
    "train_ds = TripletMNIST(root=\"../data\", train=True, transform=transform)\n",
    "train_loader = DataLoader(train_ds, batch_size=512, shuffle=True, num_workers=4, pin_memory=True)\n",
    "\n",
    "device = torch.device(\"cuda\" if torch.cuda.is_available() else \"cpu\")\n",
    "\n",
    "# model\n",
    "model = EmbeddingNet(embedding_dim=32)\n",
    "model = nn.DataParallel(model.to(device))\n",
    "\n",
    "# others\n",
    "optimizer = torch.optim.Adam(model.parameters(), lr=1e-3)\n",
    "criterion = nn.TripletMarginLoss(margin=1.0, p=2)\n",
    "\n",
    "num_epochs = 10\n",
    "for epoch in range(num_epochs):\n",
    "    model.train()\n",
    "    total_loss = 0\n",
    "    for (anc, pos, neg), _ in train_loader:\n",
    "        anc, pos, neg = anc.to(device), pos.to(device), neg.to(device)\n",
    "        emb_a = model(anc)\n",
    "        emb_p = model(pos)\n",
    "        emb_n = model(neg)\n",
    "        loss = criterion(emb_a, emb_p, emb_n)\n",
    "        optimizer.zero_grad()\n",
    "        loss.backward()\n",
    "        optimizer.step()\n",
    "        total_loss += loss.item()\n",
    "\n",
    "    avg_loss = total_loss / len(train_loader)\n",
    "    print(f\"Epoch {epoch+1}/{num_epochs} - Loss: {avg_loss:.4f}\")"
   ]
  },
  {
   "cell_type": "code",
   "execution_count": 18,
   "id": "66586984",
   "metadata": {},
   "outputs": [
    {
     "name": "stdout",
     "output_type": "stream",
     "text": [
      "Embedding Distance: 1.0376266241073608\n"
     ]
    }
   ],
   "source": [
    "# テスト用に 2 つの画像を取って埋め込み距離を比較\n",
    "model.eval()\n",
    "with torch.no_grad():\n",
    "    (x1, _, _), _ = train_ds[0]     # ラベル 1 のサンプル\n",
    "    (x2, _, _), _ = train_ds[10]     # 同じラベル or 別ラベル\n",
    "    emb1 = model(x1.unsqueeze(0).to(device))\n",
    "    emb2 = model(x2.unsqueeze(0).to(device))\n",
    "    dist = torch.norm(emb1 - emb2, p=2).item()\n",
    "    print(\"Embedding Distance:\", dist)"
   ]
  },
  {
   "cell_type": "code",
   "execution_count": null,
   "id": "fc37e02a",
   "metadata": {},
   "outputs": [],
   "source": []
  }
 ],
 "metadata": {
  "kernelspec": {
   "display_name": "myenv",
   "language": "python",
   "name": "python3"
  },
  "language_info": {
   "codemirror_mode": {
    "name": "ipython",
    "version": 3
   },
   "file_extension": ".py",
   "mimetype": "text/x-python",
   "name": "python",
   "nbconvert_exporter": "python",
   "pygments_lexer": "ipython3",
   "version": "3.10.16"
  }
 },
 "nbformat": 4,
 "nbformat_minor": 5
}
