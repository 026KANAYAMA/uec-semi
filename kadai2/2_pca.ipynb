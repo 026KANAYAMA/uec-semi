{
 "cells": [
  {
   "cell_type": "code",
   "execution_count": 7,
   "id": "559c8f62",
   "metadata": {},
   "outputs": [],
   "source": [
    "import os\n",
    "os.environ[\"CUDA_VISIBLE_DEVICES\"] = \"0,1,2,3\"\n",
    "import time\n",
    "import random\n",
    "import glob\n",
    "from PIL import Image\n",
    "import warnings\n",
    "warnings.filterwarnings('ignore')\n",
    "\n",
    "import numpy as np\n",
    "import matplotlib.pyplot as plt\n",
    "from sklearn.cluster import KMeans\n",
    "from sklearn.decomposition import PCA\n",
    "import pandas as pd\n",
    "import torch\n",
    "import torch.nn as nn\n",
    "import torch.nn.functional as F\n",
    "import torch.distributed as dist\n",
    "from torch.utils.data import Dataset, DataLoader, DistributedSampler\n",
    "from torch.multiprocessing.spawn import spawn\n",
    "import torchvision.models as models\n",
    "import torchvision.datasets as dst\n",
    "from torchvision.io import read_image\n",
    "from torchvision.transforms import v2"
   ]
  },
  {
   "cell_type": "code",
   "execution_count": 2,
   "id": "f0b02941",
   "metadata": {},
   "outputs": [],
   "source": [
    "device = torch.device(\"cuda\" if torch.cuda.is_available() else \"cpu\")"
   ]
  },
  {
   "cell_type": "code",
   "execution_count": 9,
   "id": "16ff865e",
   "metadata": {},
   "outputs": [],
   "source": [
    "# data\n",
    "def transform_image(img):\n",
    "    transforms = v2.Compose([\n",
    "        # v2.Resize(224),\n",
    "        # v2.CenterCrop(224),\n",
    "        v2.ToTensor(),\n",
    "        v2.ToDtype(torch.float32, scale=True),\n",
    "        v2.Normalize(\n",
    "            mean=[0.485, 0.456, 0.406],\n",
    "            std =[0.229, 0.224, 0.225]\n",
    "        )\n",
    "    ])\n",
    "    return transforms(img)\n",
    "\n",
    "test_dataset = dst.CIFAR10(\n",
    "    root=\"../data\",\n",
    "    train=False,\n",
    "    download=False,\n",
    "    transform=transform_image\n",
    ")\n",
    "\n",
    "dataloader = DataLoader(test_dataset, batch_size=200, shuffle=False)\n",
    "\n",
    "# model\n",
    "vgg = models.vgg16(pretrained=True).to(device).eval()\n",
    "vgg.classifier = nn.Sequential(*list(vgg.classifier.children())[:4])"
   ]
  },
  {
   "cell_type": "code",
   "execution_count": 10,
   "id": "4fc125e7",
   "metadata": {},
   "outputs": [],
   "source": [
    "with torch.no_grad():\n",
    "    imgs, labels = next(iter(dataloader))\n",
    "    imgs = imgs.to(device)               # Tensor[100,4096]\n",
    "    feats = vgg(imgs)\n",
    "feats_np = feats.cpu().numpy()   "
   ]
  },
  {
   "cell_type": "code",
   "execution_count": 11,
   "id": "b6b75b94",
   "metadata": {},
   "outputs": [],
   "source": [
    "# 95% 累積寄与率\n",
    "pca95 = PCA(n_components=0.95)\n",
    "X95 = pca95.fit_transform(feats_np)\n",
    "dim95 = X95.shape[1]\n",
    "\n",
    "# 90% 累積寄与率\n",
    "pca90 = PCA(n_components=0.90)\n",
    "X90 = pca90.fit_transform(feats_np)\n",
    "dim90 = X90.shape[1]\n",
    "\n",
    "# 固定 128 次元\n",
    "pca128 = PCA(n_components=128)\n",
    "X128 = pca128.fit_transform(feats_np)"
   ]
  },
  {
   "cell_type": "code",
   "execution_count": 12,
   "id": "7f1ab21b",
   "metadata": {},
   "outputs": [],
   "source": [
    "settings = {\n",
    "    f\"原始(4096)\": feats_np,\n",
    "    f\"95%寄与率({dim95}次元)\": X95,\n",
    "    f\"90%寄与率({dim90}次元)\": X90,\n",
    "    \"固定128次元\": X128,\n",
    "}"
   ]
  },
  {
   "cell_type": "code",
   "execution_count": 15,
   "id": "71c67498",
   "metadata": {},
   "outputs": [
    {
     "data": {
      "text/plain": [
       "array([[-1.6178340e+02,  8.6934746e+01, -7.5167198e+01, ...,\n",
       "        -3.2718880e+01, -2.4478140e+01,  1.7496986e+01],\n",
       "       [-3.1336496e+01,  1.4742610e+02, -3.7529450e-02, ...,\n",
       "        -2.6084763e+01, -1.0323290e+01, -1.9575739e+01],\n",
       "       [ 1.7347859e+02,  2.6521482e+01,  1.6934414e+01, ...,\n",
       "         6.8710756e+00,  1.2091462e+01,  1.9301725e+01],\n",
       "       ...,\n",
       "       [ 2.0207272e+02, -2.0509333e+01,  2.5992802e+01, ...,\n",
       "         1.4902886e+01,  1.0071152e+01,  1.4660802e+01],\n",
       "       [-3.2453677e+02, -1.3707321e+02, -2.3341423e+02, ...,\n",
       "        -1.0337401e+01,  9.8100557e+00, -8.8760698e-01],\n",
       "       [ 6.2061562e+01,  4.1045174e+01,  3.2111359e+00, ...,\n",
       "        -3.4509530e+00,  1.3311825e+01, -1.4658801e+01]], dtype=float32)"
      ]
     },
     "execution_count": 15,
     "metadata": {},
     "output_type": "execute_result"
    }
   ],
   "source": [
    "settings[f\"95%寄与率({dim95}次元)\"]"
   ]
  },
  {
   "cell_type": "code",
   "execution_count": 17,
   "id": "525ae9c6",
   "metadata": {},
   "outputs": [
    {
     "data": {
      "text/plain": [
       "32"
      ]
     },
     "execution_count": 17,
     "metadata": {},
     "output_type": "execute_result"
    }
   ],
   "source": [
    "dim90"
   ]
  },
  {
   "cell_type": "code",
   "execution_count": 19,
   "id": "c5068016",
   "metadata": {},
   "outputs": [
    {
     "name": "stdout",
     "output_type": "stream",
     "text": [
      "\n",
      ">>> 原始(4096) の場合:\n",
      "--- k = 5 ---\n",
      "Cluster     0   1   2   3   4\n",
      "airplane    5   4   0   0   0\n",
      "automobile  0   0   0   8   0\n",
      "bird        0   2   3   4   6\n",
      "cat         0   0  46   1   0\n",
      "deer        0   0  23   0  21\n",
      "dog         0   0   3  20   0\n",
      "frog        1   0   0   0   0\n",
      "horse       0   3   0  17   1\n",
      "ship        3   2   0   2   0\n",
      "truck       0  16   0   0   9\n",
      "--- k = 10 ---\n",
      "Cluster     0  1   2   3  4   5  6  7   8   9\n",
      "airplane    2  0   0   0  0   0  0  7   0   0\n",
      "automobile  0  8   0   0  0   0  0  0   0   0\n",
      "bird        0  3  10   0  0   1  0  0   1   0\n",
      "cat         0  0   1  46  0   0  0  0   0   0\n",
      "deer        0  0   1   1  0  40  0  0   1   1\n",
      "dog         0  2  20   0  0   0  0  0   1   0\n",
      "frog        0  0   0   0  1   0  0  0   0   0\n",
      "horse       0  2   0   0  0   0  2  0  17   0\n",
      "ship        1  0   0   0  0   0  3  1   2   0\n",
      "truck       3  0   0   0  0   0  0  1   1  20\n",
      "\n",
      ">>> 95%寄与率(49次元) の場合:\n",
      "--- k = 5 ---\n",
      "Cluster     0   1   2   3   4\n",
      "airplane    5   4   0   0   0\n",
      "automobile  0   0   0   0   8\n",
      "bird        0   2   0  12   1\n",
      "cat         0   0  39   8   0\n",
      "deer        0   0  23  21   0\n",
      "dog         0   1   0  14   8\n",
      "frog        1   0   0   0   0\n",
      "horse       0   3   0   5  13\n",
      "ship        3   1   0   0   3\n",
      "truck       0  20   0   4   1\n",
      "--- k = 10 ---\n",
      "Cluster     0  1   2   3  4  5   6   7  8   9\n",
      "airplane    6  0   0   0  0  3   0   0  0   0\n",
      "automobile  0  8   0   0  0  0   0   0  0   0\n",
      "bird        0  3   2   0  0  0  10   0  0   0\n",
      "cat         0  2   6   0  0  0   0   1  0  38\n",
      "deer        0  0   0  15  1  0   3   1  0  24\n",
      "dog         0  1  19   0  2  0   0   0  1   0\n",
      "frog        0  0   0   0  0  1   0   0  0   0\n",
      "horse       0  0   0   0  9  0   3   0  9   0\n",
      "ship        3  0   0   0  0  3   0   0  1   0\n",
      "truck       5  0   0   0  0  0   3  17  0   0\n",
      "\n",
      ">>> 90%寄与率(32次元) の場合:\n",
      "--- k = 5 ---\n",
      "Cluster     0   1   2   3   4\n",
      "airplane    4   5   0   0   0\n",
      "automobile  0   0   0   8   0\n",
      "bird        0   0   3   4   8\n",
      "cat         0   0  46   1   0\n",
      "deer        0   0  38   0   6\n",
      "dog         0   1   6  16   0\n",
      "frog        1   0   0   0   0\n",
      "horse       0   3   1  12   5\n",
      "ship        3   3   0   1   0\n",
      "truck       0  14   0   0  11\n",
      "--- k = 10 ---\n",
      "Cluster     0  1   2   3  4   5  6  7   8   9\n",
      "airplane    9  0   0   0  0   0  0  0   0   0\n",
      "automobile  0  7   1   0  0   0  0  0   0   0\n",
      "bird        0  4   3   0  0   0  0  0   0   8\n",
      "cat         0  1  18   0  5  23  0  0   0   0\n",
      "deer        0  0   0  16  4  21  0  0   1   2\n",
      "dog         0  1  17   0  0   0  0  0   1   4\n",
      "frog        0  0   0   0  0   0  1  0   0   0\n",
      "horse       0  0   0   0  0   0  0  2  17   2\n",
      "ship        2  0   0   0  0   0  0  3   2   0\n",
      "truck       3  0   0   0  5   0  0  0   2  15\n",
      "\n",
      ">>> 固定128次元 の場合:\n",
      "--- k = 5 ---\n",
      "Cluster     0   1   2   3   4\n",
      "airplane    5   4   0   0   0\n",
      "automobile  0   0   0   8   0\n",
      "bird        0   2   3   4   6\n",
      "cat         0   0  46   1   0\n",
      "deer        0   0  23   0  21\n",
      "dog         0   0   3  20   0\n",
      "frog        1   0   0   0   0\n",
      "horse       0   3   0  17   1\n",
      "ship        3   2   0   2   0\n",
      "truck       0  16   0   0   9\n",
      "--- k = 10 ---\n",
      "Cluster     0  1   2   3   4   5  6   7  8   9\n",
      "airplane    9  0   0   0   0   0  0   0  0   0\n",
      "automobile  0  8   0   0   0   0  0   0  0   0\n",
      "bird        0  0  15   0   0   0  0   0  0   0\n",
      "cat         0  0   0  47   0   0  0   0  0   0\n",
      "deer        0  0   0   0  44   0  0   0  0   0\n",
      "dog         0  0   0   0   0  23  0   0  0   0\n",
      "frog        0  0   0   0   0   0  1   0  0   0\n",
      "horse       0  0   0   0   0   0  0  21  0   0\n",
      "ship        0  0   0   0   0   0  0   0  7   0\n",
      "truck       0  0   0   0   0   0  0   0  0  25\n"
     ]
    }
   ],
   "source": [
    "from sklearn.metrics import silhouette_score\n",
    "classes = ['airplane','automobile','bird','cat','deer','dog','frog','horse','ship','truck']\n",
    "\n",
    "for name, X in settings.items():\n",
    "    print(f\"\\n>>> {name} の場合:\")\n",
    "    for k in [5, 10]:\n",
    "        km = KMeans(n_clusters=k, random_state=0).fit(X)\n",
    "        cluster_labels = km.labels_\n",
    "        # 真のラベルごとにクラスタ分布を集計\n",
    "        df = pd.crosstab(pd.Series(labels, name='TrueLabel'),\n",
    "                        pd.Series(cluster_labels, name='Cluster'))\n",
    "        # インデックスをラベル名に変換\n",
    "        df.index = [classes[i] for i in df.index]\n",
    "\n",
    "        print(f\"--- k = {k} ---\")\n",
    "        print(df)"
   ]
  },
  {
   "cell_type": "code",
   "execution_count": 20,
   "id": "702a5210",
   "metadata": {},
   "outputs": [
    {
     "data": {
      "text/plain": [
       "np.float32(0.9957808)"
      ]
     },
     "execution_count": 20,
     "metadata": {},
     "output_type": "execute_result"
    }
   ],
   "source": [
    "evr128 = pca128.explained_variance_ratio_\n",
    "evr128.sum()"
   ]
  },
  {
   "cell_type": "code",
   "execution_count": null,
   "id": "1d25b6a5",
   "metadata": {},
   "outputs": [],
   "source": []
  }
 ],
 "metadata": {
  "kernelspec": {
   "display_name": "myenv",
   "language": "python",
   "name": "python3"
  },
  "language_info": {
   "codemirror_mode": {
    "name": "ipython",
    "version": 3
   },
   "file_extension": ".py",
   "mimetype": "text/x-python",
   "name": "python",
   "nbconvert_exporter": "python",
   "pygments_lexer": "ipython3",
   "version": "3.10.16"
  }
 },
 "nbformat": 4,
 "nbformat_minor": 5
}
