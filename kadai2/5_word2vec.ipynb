{
 "cells": [
  {
   "cell_type": "code",
   "execution_count": 1,
   "id": "fe95e92b",
   "metadata": {},
   "outputs": [],
   "source": [
    "import os\n",
    "os.environ[\"CUDA_VISIBLE_DEVICES\"] = \"0,1,2,3\"\n",
    "import time\n",
    "import random\n",
    "import glob\n",
    "from PIL import Image\n",
    "import warnings\n",
    "warnings.filterwarnings('ignore')\n",
    "\n",
    "import numpy as np\n",
    "import matplotlib.pyplot as plt\n",
    "import matplotlib.patches as patches\n",
    "import torch\n",
    "import torch.nn as nn\n",
    "import torch.nn.functional as F\n",
    "import torch.distributed as dist\n",
    "from torch.utils.data import Dataset, DataLoader, DistributedSampler\n",
    "from torch.multiprocessing.spawn import spawn\n",
    "from torchvision.models.detection import ssd300_vgg16\n",
    "from torchvision.datasets import VOCSegmentation\n",
    "from torchvision.io import read_image\n",
    "from torchvision.transforms import v2\n",
    "from gensim.models import KeyedVectors"
   ]
  },
  {
   "cell_type": "code",
   "execution_count": 3,
   "id": "6cda8f77",
   "metadata": {},
   "outputs": [],
   "source": [
    "model_path = './GoogleNews-vectors-negative300.bin'\n",
    "wv = KeyedVectors.load_word2vec_format(model_path, binary=True)"
   ]
  },
  {
   "cell_type": "code",
   "execution_count": 5,
   "id": "fd7cc044",
   "metadata": {},
   "outputs": [],
   "source": [
    "stoi = wv.key_to_index         # word → idx\n",
    "itos = wv.index_to_key        # idx → word\n",
    "\n",
    "embeddings = torch.from_numpy(wv.vectors)  \n",
    "emb_norm = F.normalize(embeddings,    dim=1)   \n",
    "\n",
    "def vec(word):\n",
    "    \"\"\"単語ベクトル(torch.Tensor[300]）を返す\"\"\"\n",
    "    idx = stoi.get(word)\n",
    "    if idx is None:\n",
    "        raise KeyError(f\"単語 '{word}' が語彙にありません\")\n",
    "    return embeddings[idx]"
   ]
  },
  {
   "cell_type": "code",
   "execution_count": 20,
   "id": "52121906",
   "metadata": {},
   "outputs": [
    {
     "name": "stdout",
     "output_type": "stream",
     "text": [
      "----- hotdog - bread の類似語 -----\n",
      "hotdog: 0.6288\n",
      "hotdogs: 0.3477\n",
      "Hard_Rock_Café: 0.3347\n",
      "Bowzer: 0.3280\n",
      "Universal_CityWalk: 0.3232\n",
      "Zooperstars: 0.3146\n",
      "Hooters: 0.3116\n",
      "Rollergirl: 0.3109\n",
      "beer_bong: 0.3107\n",
      "Sneaky_Pete: 0.3078\n"
     ]
    }
   ],
   "source": [
    "target = vec('hotdog') -  vec('bread')\n",
    "target_norm = F.normalize(target.unsqueeze(0), dim=1) \n",
    "\n",
    "sim = torch.mm(emb_norm, target_norm.t()).squeeze(1)  \n",
    "\n",
    "topk = 10\n",
    "values, indices = torch.topk(sim, k=topk)\n",
    "\n",
    "print(\"----- hotdog - bread の類似語 -----\")\n",
    "for score, idx in zip(values, indices):\n",
    "    print(f\"{itos[idx]}: {score:.4f}\")"
   ]
  },
  {
   "cell_type": "code",
   "execution_count": null,
   "id": "93c883c7",
   "metadata": {},
   "outputs": [],
   "source": []
  }
 ],
 "metadata": {
  "kernelspec": {
   "display_name": "myenv",
   "language": "python",
   "name": "python3"
  },
  "language_info": {
   "codemirror_mode": {
    "name": "ipython",
    "version": 3
   },
   "file_extension": ".py",
   "mimetype": "text/x-python",
   "name": "python",
   "nbconvert_exporter": "python",
   "pygments_lexer": "ipython3",
   "version": "3.10.16"
  }
 },
 "nbformat": 4,
 "nbformat_minor": 5
}
