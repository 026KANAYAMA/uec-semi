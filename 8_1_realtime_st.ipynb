{
 "cells": [
  {
   "cell_type": "code",
   "execution_count": 3,
   "id": "67762474",
   "metadata": {},
   "outputs": [],
   "source": [
    "import os\n",
    "os.environ[\"CUDA_VISIBLE_DEVICES\"] = \"0,1,2,3\"\n",
    "import time\n",
    "import random\n",
    "import glob\n",
    "from PIL import Image\n",
    "import warnings\n",
    "warnings.filterwarnings('ignore')\n",
    "\n",
    "import numpy as np\n",
    "import matplotlib.pyplot as plt\n",
    "import torch\n",
    "import torch.nn as nn\n",
    "import torch.nn.functional as F\n",
    "import torch.distributed as dist\n",
    "from torch.utils.data import Dataset, DataLoader, DistributedSampler\n",
    "from torch.multiprocessing.spawn import spawn\n",
    "import torchvision.models as models\n",
    "import torchvision.datasets as dst\n",
    "from torchvision.io import read_image\n",
    "from torchvision.transforms import v2"
   ]
  },
  {
   "cell_type": "code",
   "execution_count": null,
   "id": "3f37aa29",
   "metadata": {},
   "outputs": [
    {
     "ename": "SyntaxError",
     "evalue": "invalid syntax (3498195004.py, line 14)",
     "output_type": "error",
     "traceback": [
      "\u001b[0;36m  Cell \u001b[0;32mIn[8], line 14\u001b[0;36m\u001b[0m\n\u001b[0;31m    ])\u001b[0m\n\u001b[0m    ^\u001b[0m\n\u001b[0;31mSyntaxError\u001b[0m\u001b[0;31m:\u001b[0m invalid syntax\n"
     ]
    }
   ],
   "source": [
    "# dataset\n",
    "DATA_LOOT = \"/export/data/dataset/COCO/train2014\"\n",
    "STYLE_IMG_PATH = \"./data/NST/gohho.png\"\n",
    "DATA_SIZE = 128\n",
    "\n",
    "class CustomDataset(Dataset):\n",
    "    def __init__(self, data_root, style_img_path, img_size):\n",
    "        self.content_paths = glob.glob(os.path.join(data_root, \"*.jpg\"))\n",
    "\n",
    "        self.transforms = v2.Compose([\n",
    "            v2.Resize(img_size),\n",
    "            v2.CenterCrop(img_size),\n",
    "            v2.ToTensor(),\n",
    "            v2.Lambda(lambda x: x.mul(255)), #VGGは256スケールで学習\n",
    "            v2.Normalize(\n",
    "                mean=[0.485, 0.456, 0.406],\n",
    "                std =[0.229, 0.224, 0.225]\n",
    "            )\n",
    "        ])\n",
    "\n",
    "        # スタイル画像読み込み\n",
    "        style_img = read_image(style_img_path)\n",
    "        self.style_tensor = self.transforms(style_img)\n",
    "\n",
    "    def __len(self):\n",
    "        return len(self.content_paths)\n",
    "\n",
    "    def __getitem__(self, idx):\n",
    "        content_img = read_image(self.content_paths[idx])\n",
    "        content_tensor = self.transforms(content_img)\n",
    "        return content_tensor, self.style_tensor"
   ]
  },
  {
   "cell_type": "code",
   "execution_count": 10,
   "id": "651dc654",
   "metadata": {},
   "outputs": [
    {
     "data": {
      "text/plain": [
       "82783"
      ]
     },
     "execution_count": 10,
     "metadata": {},
     "output_type": "execute_result"
    }
   ],
   "source": [
    "imgs = glob.glob(os.path.join(DATA_LOOT, \"*.jpg\"))\n",
    "len(imgs)"
   ]
  },
  {
   "cell_type": "code",
   "execution_count": null,
   "id": "5754ac5c",
   "metadata": {},
   "outputs": [],
   "source": []
  }
 ],
 "metadata": {
  "kernelspec": {
   "display_name": "myenv",
   "language": "python",
   "name": "python3"
  },
  "language_info": {
   "codemirror_mode": {
    "name": "ipython",
    "version": 3
   },
   "file_extension": ".py",
   "mimetype": "text/x-python",
   "name": "python",
   "nbconvert_exporter": "python",
   "pygments_lexer": "ipython3",
   "version": "3.10.16"
  }
 },
 "nbformat": 4,
 "nbformat_minor": 5
}
