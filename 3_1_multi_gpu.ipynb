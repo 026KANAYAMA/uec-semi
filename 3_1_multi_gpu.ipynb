{
 "cells": [
  {
   "cell_type": "code",
   "execution_count": 12,
   "id": "169b2b18",
   "metadata": {},
   "outputs": [],
   "source": [
    "import os\n",
    "os.environ[\"CUDA_VISIBLE_DEVICES\"] = \"0,1,2,3\"\n",
    "import time\n",
    "import random\n",
    "\n",
    "import numpy as np\n",
    "import torch\n",
    "import torch.nn as nn\n",
    "from torchvision.models import resnet152\n",
    "from torchvision.datasets import CIFAR10, CIFAR100\n",
    "from torchvision.transforms import v2\n",
    "from torch.utils.data import DataLoader\n",
    "\n",
    "# seed固定\n",
    "seed = 0\n",
    "random.seed(seed)\n",
    "np.random.seed(seed)\n",
    "torch.manual_seed(seed)\n",
    "torch.cuda.manual_seed_all(seed)\n",
    "torch.backends.cudnn.deterministic = True\n",
    "torch.backends.cudnn.benchmark = False"
   ]
  },
  {
   "cell_type": "code",
   "execution_count": 13,
   "id": "66c2cbe6",
   "metadata": {},
   "outputs": [
    {
     "name": "stdout",
     "output_type": "stream",
     "text": [
      "Files already downloaded and verified\n"
     ]
    }
   ],
   "source": [
    "# Datset\n",
    "transform = v2.Compose([\n",
    "    v2.ToTensor(),\n",
    "    v2.ToDtype(torch.float, scale=True)\n",
    "])\n",
    "\n",
    "# dataset = CIFAR10(\n",
    "#     root=\"./data\",\n",
    "#     transform=transform,\n",
    "#     download=True\n",
    "# )\n",
    "dataset = CIFAR100(\n",
    "    root=\"./data\",\n",
    "    transform=transform,\n",
    "    download=True\n",
    ")\n",
    "\n",
    "\n",
    "dataloader = DataLoader(\n",
    "    dataset,\n",
    "    batch_size=2056,\n",
    "    shuffle=True,\n",
    "    num_workers=4,\n",
    "    drop_last=False\n",
    ")"
   ]
  },
  {
   "cell_type": "code",
   "execution_count": 14,
   "id": "c0384cb0",
   "metadata": {},
   "outputs": [
    {
     "data": {
      "text/plain": [
       "50000"
      ]
     },
     "execution_count": 14,
     "metadata": {},
     "output_type": "execute_result"
    }
   ],
   "source": [
    "len(dataset)"
   ]
  },
  {
   "cell_type": "code",
   "execution_count": 15,
   "id": "602ea344",
   "metadata": {},
   "outputs": [],
   "source": [
    "# Model\n",
    "model = resnet152(weights=\"IMAGENET1K_V1\")\n",
    "in_features = model.fc.in_features\n",
    "# model.fc = nn.Linear(in_features, 10) # CIFAR 10\n",
    "model.fc = nn.Linear(in_features, 100)\n",
    "\n",
    "# Others\n",
    "lr = 0.0001\n",
    "criterion = nn.CrossEntropyLoss()\n",
    "optimizer = torch.optim.AdamW(\n",
    "    model.parameters(),\n",
    "    lr=lr,\n",
    "    betas=[0.9, 0.999],\n",
    "    weight_decay=0.0001\n",
    ")"
   ]
  },
  {
   "cell_type": "code",
   "execution_count": 16,
   "id": "23095cc5",
   "metadata": {},
   "outputs": [
    {
     "name": "stdout",
     "output_type": "stream",
     "text": [
      "cuda\n"
     ]
    }
   ],
   "source": [
    "'''\n",
    "課題1\n",
    "\n",
    "GPU数ごとの学習時間の計測\n",
    "'''\n",
    "\n",
    "# Experiment Settings\n",
    "# os.environ[\"CUDA_VISIBLE_DEVICES\"] = \"0,1,2,3\"\n",
    "\n",
    "device = torch.device(\"cuda\" if torch.cuda.is_available() else \"cpu\")\n",
    "print(device)\n",
    "model = nn.DataParallel(model)\n",
    "model = model.to(device)"
   ]
  },
  {
   "cell_type": "code",
   "execution_count": null,
   "id": "d4804277",
   "metadata": {},
   "outputs": [
    {
     "name": "stdout",
     "output_type": "stream",
     "text": [
      "epoch: 1, train loss: 3.965126323699951\n",
      "epoch: 2, train loss: 2.5156394481658935\n",
      "epoch: 3, train loss: 1.6912783765792847\n",
      "epoch: 4, train loss: 1.0810856628417969\n",
      "epoch: 5, train loss: 0.6142773771286011\n",
      "学習時間: 45.7seconds\n"
     ]
    }
   ],
   "source": [
    "# Experience\n",
    "\n",
    "# Time\n",
    "start_time = time.time()\n",
    "\n",
    "epochs = 5\n",
    "for epoch in range(epochs):\n",
    "    train_loss = 0.0\n",
    "    model.train()\n",
    "    for img, label in dataloader:\n",
    "        optimizer.zero_grad()\n",
    "        img, label = img.to(device), label.to(device)\n",
    "        p_label = model(img)\n",
    "        loss = criterion(p_label, label)\n",
    "        train_loss += loss.item()\n",
    "        loss.backward()\n",
    "        optimizer.step()\n",
    "        \n",
    "    train_loss /= len(dataloader)\n",
    "    print(f\"epoch: {epoch+1}, train loss: {train_loss}\")\n",
    "\n",
    "end_time = time.time()\n",
    "print(f\"学習時間: {end_time - start_time:.1f}seconds\")\n"
   ]
  },
  {
   "cell_type": "markdown",
   "id": "67b5493a",
   "metadata": {},
   "source": [
    "### CIFAR 10結果"
   ]
  },
  {
   "cell_type": "code",
   "execution_count": 18,
   "id": "3bda9702",
   "metadata": {},
   "outputs": [],
   "source": [
    "# Batch 512, ResNet101\n",
    "\n",
    "# GPU 1\n",
    "# epoch: 1, train loss: 1.0761167759798012\n",
    "# epoch: 2, train loss: 0.4412334415377403\n",
    "# epoch: 3, train loss: 0.17696894462011298\n",
    "# epoch: 4, train loss: 0.08636364623980254\n",
    "# epoch: 5, train loss: 0.07115460871433725\n",
    "# 学習時間: 49.6seconds\n",
    "\n",
    "# GPU 2\n",
    "# epoch: 1, train loss: 1.1051142185318226\n",
    "# epoch: 2, train loss: 0.49897604785403427\n",
    "# epoch: 3, train loss: 0.2556265328003436\n",
    "# epoch: 4, train loss: 0.14925496857993456\n",
    "# epoch: 5, train loss: 0.09898413162754506\n",
    "# 学習時間: 105.9seconds\n",
    "\n",
    "# GPU 4\n",
    "# epoch: 1, train loss: 1.1051142185318226\n",
    "# epoch: 2, train loss: 0.49897604785403427\n",
    "# epoch: 3, train loss: 0.2556265328003436\n",
    "# epoch: 4, train loss: 0.14925496857993456\n",
    "# epoch: 5, train loss: 0.09898413162754506\n",
    "# 学習時間: 106.3seconds"
   ]
  },
  {
   "cell_type": "code",
   "execution_count": 19,
   "id": "c646b3be",
   "metadata": {},
   "outputs": [],
   "source": [
    "# Batch 1024, ResNet152\n",
    "\n",
    "# GPU 1\n",
    "# epoch: 1, train loss: 1.1836567788707966\n",
    "# epoch: 2, train loss: 0.47651875201536686\n",
    "# epoch: 3, train loss: 0.17617712489196233\n",
    "# epoch: 4, train loss: 0.059560982624487\n",
    "# epoch: 5, train loss: 0.03227344140106318\n",
    "# 学習時間: 64.1seconds\n",
    "\n",
    "# GPU2\n",
    "# epoch: 1, train loss: 1.1858141397943303\n",
    "# epoch: 2, train loss: 0.4831528505500482\n",
    "# epoch: 3, train loss: 0.18664904820675754\n",
    "# epoch: 4, train loss: 0.07077507781130928\n",
    "# epoch: 5, train loss: 0.04813307694786666\n",
    "# 学習時間: 66.0seconds\n",
    "\n",
    "# GPU4\n",
    "# epoch: 1, train loss: 1.1858141397943303\n",
    "# epoch: 2, train loss: 0.4831528505500482\n",
    "# epoch: 3, train loss: 0.18664904820675754\n",
    "# epoch: 4, train loss: 0.07077507781130928\n",
    "# epoch: 5, train loss: 0.04813307694786666\n",
    "# 学習時間: 62.5seconds"
   ]
  },
  {
   "cell_type": "code",
   "execution_count": 20,
   "id": "916d669e",
   "metadata": {},
   "outputs": [],
   "source": [
    "# Batch 2056, ResNet152\n",
    "\n",
    "# GPU 2\n",
    "# epoch: 1, train loss: 1.3980751490592958\n",
    "# epoch: 2, train loss: 0.6175890874862671\n",
    "# epoch: 3, train loss: 0.29048303663730624\n",
    "# epoch: 4, train loss: 0.10367942631244659\n",
    "# epoch: 5, train loss: 0.038534104675054554\n",
    "# 学習時間: 45.3seconds\n",
    "\n",
    "# おまけ GPU 1\n",
    "# epoch: 1, train loss: 1.3995373821258545\n",
    "# epoch: 2, train loss: 0.6193314146995544\n",
    "# epoch: 3, train loss: 0.2864131611585617\n",
    "# epoch: 4, train loss: 0.09750533431768417\n",
    "# epoch: 5, train loss: 0.03211120568215847\n",
    "# 学習時間: 85.2seconds\n",
    "\n",
    "# おまけ GPU 4（GPU2と全く同じ）\n",
    "# epoch: 1, train loss: 1.3980751490592958\n",
    "# epoch: 2, train loss: 0.6175890874862671\n",
    "# epoch: 3, train loss: 0.29048303663730624\n",
    "# epoch: 4, train loss: 0.10367942631244659\n",
    "# epoch: 5, train loss: 0.038534104675054554\n",
    "# 学習時間: 45.3seconds"
   ]
  },
  {
   "cell_type": "markdown",
   "id": "89134d77",
   "metadata": {},
   "source": [
    "### CIFAR 100結果"
   ]
  },
  {
   "cell_type": "code",
   "execution_count": null,
   "id": "d039e46f",
   "metadata": {},
   "outputs": [],
   "source": [
    "# Batch 1024, GPU1\n",
    "# epoch: 1, train loss: 3.5558944672954325\n",
    "# epoch: 2, train loss: 1.9490852112672767\n",
    "# epoch: 3, train loss: 1.1722316109404272\n",
    "# epoch: 4, train loss: 0.6205556100728561\n",
    "# epoch: 5, train loss: 0.2922739988687087\n",
    "# 学習時間: 61.9seconds\n",
    "\n",
    "# Batch 1024, GPU2\n",
    "# epoch: 1, train loss: 3.5558944672954325\n",
    "# epoch: 2, train loss: 1.9490852112672767\n",
    "# epoch: 3, train loss: 1.1722316109404272\n",
    "# epoch: 4, train loss: 0.6205556100728561\n",
    "# epoch: 5, train loss: 0.2922739988687087\n",
    "# 学習時間: 63.5seconds\n",
    "\n",
    "# Batch 1024, GPU4\n",
    "# epoch: 1, train loss: 3.6306635311671664\n",
    "# epoch: 2, train loss: 2.0852587101410847\n",
    "# epoch: 3, train loss: 1.325660406326761\n",
    "# epoch: 4, train loss: 0.7813601311372251\n",
    "# epoch: 5, train loss: 0.4197270438379171\n",
    "\n",
    "# 学習時間: 92.7seconds"
   ]
  },
  {
   "cell_type": "code",
   "execution_count": null,
   "id": "1fc5c2ff",
   "metadata": {},
   "outputs": [],
   "source": [
    "# Batch 2056, GPU1\n",
    "# epoch: 1, train loss: 3.942271032333374\n",
    "# epoch: 2, train loss: 2.461391625404358\n",
    "# epoch: 3, train loss: 1.6243526172637939\n",
    "# epoch: 4, train loss: 1.0069246244430543\n",
    "# epoch: 5, train loss: 0.5506624889373779\n",
    "# 学習時間: 86.5seconds\n",
    "\n",
    "# Batch 2056, GPU2\n",
    "# epoch: 1, train loss: 3.965126323699951\n",
    "# epoch: 2, train loss: 2.5156394481658935\n",
    "# epoch: 3, train loss: 1.6912783765792847\n",
    "# epoch: 4, train loss: 1.0810856628417969\n",
    "# epoch: 5, train loss: 0.6142773771286011\n",
    "# 学習時間: 49.1seconds\n",
    "\n",
    "# Batch 2056, GPU4\n",
    "# epoch: 1, train loss: 3.965126323699951\n",
    "# epoch: 2, train loss: 2.5156394481658935\n",
    "# epoch: 3, train loss: 1.6912783765792847\n",
    "# epoch: 4, train loss: 1.0810856628417969\n",
    "# epoch: 5, train loss: 0.6142773771286011\n",
    "# 学習時間: 45.7seconds\n"
   ]
  },
  {
   "cell_type": "code",
   "execution_count": null,
   "id": "54efea04",
   "metadata": {},
   "outputs": [],
   "source": []
  }
 ],
 "metadata": {
  "kernelspec": {
   "display_name": "myenv",
   "language": "python",
   "name": "python3"
  },
  "language_info": {
   "codemirror_mode": {
    "name": "ipython",
    "version": 3
   },
   "file_extension": ".py",
   "mimetype": "text/x-python",
   "name": "python",
   "nbconvert_exporter": "python",
   "pygments_lexer": "ipython3",
   "version": "3.10.16"
  }
 },
 "nbformat": 4,
 "nbformat_minor": 5
}
