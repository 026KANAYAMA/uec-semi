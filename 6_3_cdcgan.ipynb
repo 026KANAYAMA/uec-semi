{
 "cells": [
  {
   "cell_type": "code",
   "execution_count": 1,
   "id": "e40313ca",
   "metadata": {},
   "outputs": [],
   "source": [
    "import os\n",
    "os.environ[\"CUDA_VISIBLE_DEVICES\"] = \"0,1,2,3\"\n",
    "import time\n",
    "import random\n",
    "import glob\n",
    "\n",
    "import numpy as np\n",
    "import matplotlib.pyplot as plt\n",
    "import torch\n",
    "import torch.nn as nn\n",
    "import torch.nn.functional as F\n",
    "import torch.distributed as dist\n",
    "from torch.multiprocessing.spawn import spawn\n",
    "import torchvision.datasets as dst\n",
    "from torchvision.io import read_image\n",
    "from torchvision.transforms import v2\n",
    "from torch.utils.data import DataLoader, DistributedSampler\n"
   ]
  },
  {
   "cell_type": "code",
   "execution_count": 2,
   "id": "d079b3ef",
   "metadata": {},
   "outputs": [],
   "source": [
    "z_dim = 100\n",
    "num_classes = 10\n",
    "\n",
    "def expand_label(y, H, W):\n",
    "        # y: (B,) int ラベル → (B, C, H, W) one-hot レプリケート\n",
    "        onehot = torch.zeros(y.size(0), num_classes, H, W, device=y.device)\n",
    "        onehot.scatter_(1, y.view(-1,1,1,1).repeat(1,1,H,W), 1)\n",
    "        return onehot\n",
    "\n",
    "class Generator(nn.Module):\n",
    "    def __init__(self):\n",
    "        super().__init__()\n",
    "        self.net = nn.Sequential(\n",
    "            # input: (z_dim + num_classes)×1×1\n",
    "            nn.ConvTranspose2d(z_dim + num_classes, 256, 7, 1, 0, bias=False),\n",
    "            nn.BatchNorm2d(256),\n",
    "            nn.ReLU(True),\n",
    "            # → 256×7×7\n",
    "            nn.ConvTranspose2d(256, 128, 4, 2, 1, bias=False),\n",
    "            nn.BatchNorm2d(128),\n",
    "            nn.ReLU(True),\n",
    "            # → 128×14×14\n",
    "            nn.ConvTranspose2d(128, 64, 4, 2, 1, bias=False),\n",
    "            nn.BatchNorm2d(64),\n",
    "            nn.ReLU(True),\n",
    "            # → 64×28×28\n",
    "            nn.Conv2d(64, 1, 3, 1, 1),\n",
    "            nn.Tanh()\n",
    "            # 出力: 1×28×28\n",
    "        )\n",
    "    def forward(self, z, y):\n",
    "        # z: (B, z_dim), y: (B,) int\n",
    "        B = z.size(0)\n",
    "        z = z.view(B, z_dim, 1, 1)\n",
    "        y_map = expand_label(y, 1, 1)         # (B, C, 1, 1)\n",
    "        x = torch.cat([z, y_map], dim=1)      # (B, z_dim+C,1,1)\n",
    "        return self.net(x)\n",
    "\n",
    "class Discriminator(nn.Module):\n",
    "    def __init__(self):\n",
    "        super().__init__()\n",
    "        self.net = nn.Sequential(\n",
    "        # input: (1 + num_classes)×28×28\n",
    "        nn.Conv2d(1 + num_classes, 64, 4, 2, 1),\n",
    "        nn.LeakyReLU(0.2, inplace=True),\n",
    "        # → 64×14×14\n",
    "        nn.Conv2d(64, 128, 4, 2, 1),\n",
    "        nn.BatchNorm2d(128),\n",
    "        nn.LeakyReLU(0.2, inplace=True),\n",
    "        # → 128×7×7\n",
    "        nn.Conv2d(128, 256, 3, 2, 1),\n",
    "        nn.BatchNorm2d(256),\n",
    "        nn.LeakyReLU(0.2, inplace=True),\n",
    "        # → 256×4×4\n",
    "        nn.Flatten(),\n",
    "        nn.Linear(256*4*4, 1),\n",
    "        nn.Sigmoid()\n",
    "    )\n",
    "    def forward(self, img, y):\n",
    "        # img: (B,1,28,28), y: (B,)\n",
    "        B = img.size(0)\n",
    "        y_map = expand_label(y, 28, 28)       # (B,C,28,28)\n",
    "        x = torch.cat([img, y_map], dim=1)    # (B,1+C,28,28)\n",
    "        return self.net(x)"
   ]
  },
  {
   "cell_type": "code",
   "execution_count": 17,
   "id": "d749d834",
   "metadata": {},
   "outputs": [
    {
     "name": "stderr",
     "output_type": "stream",
     "text": [
      "/tmp/ipykernel_1290444/3685869222.py:3: FutureWarning: You are using `torch.load` with `weights_only=False` (the current default value), which uses the default pickle module implicitly. It is possible to construct malicious pickle data which will execute arbitrary code during unpickling (See https://github.com/pytorch/pytorch/blob/main/SECURITY.md#untrusted-models for more details). In a future release, the default value for `weights_only` will be flipped to `True`. This limits the functions that could be executed during unpickling. Arbitrary objects will no longer be allowed to be loaded via this mode unless they are explicitly allowlisted by the user via `torch.serialization.add_safe_globals`. We recommend you start setting `weights_only=True` for any use case where you don't have full control of the loaded file. Please open an issue on GitHub for any issues related to this experimental feature.\n",
      "  G.load_state_dict(torch.load(\"6_3_cdcgan.pth\", map_location=device))\n"
     ]
    },
    {
     "data": {
      "image/png": "[encoded data removed]",
      "text/plain": [
       "<Figure size 640x480 with 1 Axes>"
      ]
     },
     "metadata": {},
     "output_type": "display_data"
    }
   ],
   "source": [
    "device = torch.device(\"cuda\" if torch.cuda.is_available() else \"cpu\")\n",
    "G = Generator().to(device)\n",
    "G.load_state_dict(torch.load(\"6_3_cdcgan.pth\", map_location=device))\n",
    "G = nn.DataParallel(G)\n",
    "\n",
    "# 検証\n",
    "G.eval()\n",
    "with torch.no_grad():\n",
    "    z = torch.randn(1, 100, device=device)\n",
    "    label = torch.tensor([9], device=device)  \n",
    "    fake_imgs = G(z, label)                # → Tensor [16, img_dim]\n",
    "    fake_imgs = fake_imgs.view(1, 1, 28, 28)\n",
    "    fake_imgs = fake_imgs[0,0].cpu().numpy()\n",
    "\n",
    "# 可視化\n",
    "fake_imgs = (fake_imgs + 1.0) / 2.0  \n",
    "plt.imshow(fake_imgs, cmap='gray')\n",
    "plt.axis('off')\n",
    "plt.show()"
   ]
  },
  {
   "cell_type": "code",
   "execution_count": null,
   "id": "d3a13d83",
   "metadata": {},
   "outputs": [],
   "source": []
  }
 ],
 "metadata": {
  "kernelspec": {
   "display_name": "myenv",
   "language": "python",
   "name": "python3"
  },
  "language_info": {
   "codemirror_mode": {
    "name": "ipython",
    "version": 3
   },
   "file_extension": ".py",
   "mimetype": "text/x-python",
   "name": "python",
   "nbconvert_exporter": "python",
   "pygments_lexer": "ipython3",
   "version": "3.10.16"
  }
 },
 "nbformat": 4,
 "nbformat_minor": 5
}
